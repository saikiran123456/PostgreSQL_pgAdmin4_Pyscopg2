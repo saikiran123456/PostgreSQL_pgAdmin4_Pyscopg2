{
 "cells": [
  {
   "cell_type": "markdown",
   "id": "11292e15",
   "metadata": {},
   "source": [
    "## Connecting to 'demo' postgres Database using psycopg2 and Doing CRUD operations\n",
    "### by ~ Saikiran Dasari"
   ]
  },
  {
   "cell_type": "markdown",
   "id": "7ef64b65",
   "metadata": {},
   "source": [
    "## Import the required modules"
   ]
  },
  {
   "cell_type": "code",
   "execution_count": 1,
   "id": "36538a41",
   "metadata": {},
   "outputs": [],
   "source": [
    "import psycopg2\n",
    "import psycopg2.extras"
   ]
  },
  {
   "cell_type": "markdown",
   "id": "55a438de",
   "metadata": {},
   "source": [
    "## Table of Contents: <a id = \"toc\"></a>"
   ]
  },
  {
   "cell_type": "markdown",
   "id": "26ce0465",
   "metadata": {},
   "source": [
    "1. [CREATE a TABLE (Using Try-Except-Finally Block)](#Section1)\n",
    "\n",
    "\n",
    "2. [INSERT Data into the above Table created [DML]](#Section2)\n",
    "\n",
    "    * [2.2 INSERT multiple Values](#section2.2)\n",
    "    \n",
    "    \n",
    "3. [Program without Using TRY - EXCEPT - FINALLY  blocks](#TryExceptFinally)\n",
    "\n",
    "\n",
    "4. [Performing DDL Operations Seperately](#DDL)\n",
    "\n",
    "    * [CREATE table](#create)\n",
    "    \n",
    "    * [DROP table](#drop)\n",
    "    \n",
    "    * [RENAME table](#rename)\n",
    "    \n",
    "    * [TRUNCATE table](#truncate)\n",
    "    \n",
    "    \n",
    "5. [DQL (Data Query Language)](#dql)\n",
    "\n",
    "\n",
    "6. [DML (Data Manipulation Commands)](#dml)\n",
    "\n",
    "    * [INSERT](#insert)\n",
    "    \n",
    "    * [UPDATE](#update)\n",
    "    \n",
    "    * [DELETE](#delete)\n",
    "    \n",
    "    \n",
    "7. [Context Manager(How to use it? using WITH Clause)](#contextManager)\n"
   ]
  },
  {
   "cell_type": "code",
   "execution_count": null,
   "id": "2efc3983",
   "metadata": {},
   "outputs": [],
   "source": []
  },
  {
   "cell_type": "markdown",
   "id": "446b6774",
   "metadata": {},
   "source": [
    "## -> Write the Program to make a proper connection to postgreSQL database"
   ]
  },
  {
   "cell_type": "markdown",
   "id": "0c2badb1",
   "metadata": {},
   "source": [
    "## Task 1:"
   ]
  },
  {
   "cell_type": "code",
   "execution_count": 10,
   "id": "aaeb2869",
   "metadata": {},
   "outputs": [],
   "source": [
    "hostname = 'localhost'\n",
    "database = 'demo'\n",
    "username = 'postgres'\n",
    "pwd = 'Your_Pwd'\n",
    "port_id = 5432"
   ]
  },
  {
   "cell_type": "code",
   "execution_count": 11,
   "id": "ca1ae710",
   "metadata": {},
   "outputs": [],
   "source": [
    "conn = psycopg2.connect(\n",
    "            host = hostname,\n",
    "            dbname = database,\n",
    "            user = username,\n",
    "            password = pwd,\n",
    "            port = port_id)\n",
    "\n",
    "conn.close()"
   ]
  },
  {
   "cell_type": "markdown",
   "id": "89ba1139",
   "metadata": {},
   "source": [
    "## Task 2:"
   ]
  },
  {
   "cell_type": "markdown",
   "id": "eb5b8192",
   "metadata": {},
   "source": [
    "**let's place the above db connection cmds inside the TRY and EXCEPT Block(In case if database connection fails it should not crash the program, but we will be able to capture the exception!**"
   ]
  },
  {
   "cell_type": "code",
   "execution_count": 12,
   "id": "bc266bbf",
   "metadata": {},
   "outputs": [],
   "source": [
    "# This connect function will open a DB session, where we can perform any db transactions, like DDL,DQL or DML etc..\n",
    "try:\n",
    "    conn = psycopg2.connect(\n",
    "                host = hostname,\n",
    "                dbname = database,\n",
    "                user = username,\n",
    "                password = pwd,\n",
    "                port = port_id)\n",
    "\n",
    "    conn.close()\n",
    "    \n",
    "except Exception as error:\n",
    "    print(error)\n",
    "    \n",
    "## Exception Error printed as : connection to server at \"localhost\" (::1), port 5432 failed: FATAL:  password authentication failed for user \"postgre\"\n",
    "    "
   ]
  },
  {
   "cell_type": "code",
   "execution_count": null,
   "id": "f0d4a3db",
   "metadata": {},
   "outputs": [],
   "source": []
  },
  {
   "cell_type": "markdown",
   "id": "ccbfc717",
   "metadata": {},
   "source": [
    "## Task 3:"
   ]
  },
  {
   "cell_type": "markdown",
   "id": "c61ae2a1",
   "metadata": {},
   "source": [
    "**In order to perform any db transaction, we need to open a CURSOR**\n",
    "\n",
    "**CURSOR will help us in performin any kind of SQL operations, it stores the values that will be returned from those SQL operations**"
   ]
  },
  {
   "cell_type": "markdown",
   "id": "53886ec6",
   "metadata": {},
   "source": [
    "- NOTE: Make sure that database connection is always closed and also CURSOR is also closed"
   ]
  },
  {
   "cell_type": "markdown",
   "id": "56c61a56",
   "metadata": {},
   "source": [
    "- NOTE: we need to place the both the close() method connection inside the FINNALY Block"
   ]
  },
  {
   "cell_type": "markdown",
   "id": "246c176e",
   "metadata": {},
   "source": [
    "- NOTE: Makesure that if and only if the conn and curr connections are OPEN then only CLOSE the both connections (for that assign 2 objects and give NONE and use IF statements inside FINALLY block)"
   ]
  },
  {
   "cell_type": "code",
   "execution_count": null,
   "id": "a5257224",
   "metadata": {},
   "outputs": [],
   "source": [
    "try:\n",
    "    conn = psycopg2.connect(\n",
    "                host = hostname,\n",
    "                dbname = database,\n",
    "                user = username,\n",
    "                password = pwd,\n",
    "                port = port_id)\n",
    "\n",
    "    cur = conn.cursor()\n",
    "  # this is not the best practice to assing the close() methods inside the TRY block!  \n",
    "    cur.close()\n",
    "    conn.close()\n",
    "    \n",
    "    \n",
    "except Exception as error:\n",
    "    print(error)"
   ]
  },
  {
   "cell_type": "markdown",
   "id": "492499a8",
   "metadata": {},
   "source": [
    "**FINALLY Block: Whether there is an exception or No Exception, whatever block of code you have written inside FINALLY will be executed!**"
   ]
  },
  {
   "cell_type": "code",
   "execution_count": 13,
   "id": "5b93fc8f",
   "metadata": {},
   "outputs": [],
   "source": [
    "hostname = 'localhost'\n",
    "database = 'demo'\n",
    "username = 'postgres'\n",
    "pwd = 'Your_pwd'\n",
    "port_id = 5432\n",
    "# Now assign None value to the cur and conn variables! at the beginning of program\n",
    "conn = None\n",
    "cur = None"
   ]
  },
  {
   "cell_type": "code",
   "execution_count": 14,
   "id": "e40d2434",
   "metadata": {},
   "outputs": [],
   "source": [
    "try:\n",
    "    conn = psycopg2.connect(\n",
    "                host = hostname,\n",
    "                dbname = database,\n",
    "                user = username,\n",
    "                password = pwd,\n",
    "                port = port_id)\n",
    "\n",
    "    cur = conn.cursor()\n",
    "    \n",
    "except Exception as error:\n",
    "    print(error)\n",
    "    \n",
    "finally:\n",
    "    if cur is not None:   #means if the cursor is open only when i want to close!\n",
    "        cur.close()\n",
    "    \n",
    "    if conn is not None:\n",
    "        conn.close()\n",
    "       "
   ]
  },
  {
   "cell_type": "markdown",
   "id": "defef69f",
   "metadata": {},
   "source": [
    "- This is how our Outline should looklike when we want to connect to the postgreSQL database"
   ]
  },
  {
   "cell_type": "code",
   "execution_count": null,
   "id": "bd359b51",
   "metadata": {},
   "outputs": [],
   "source": []
  },
  {
   "cell_type": "markdown",
   "id": "6df61bf5",
   "metadata": {},
   "source": [
    "## 1) CREATE a table using (Try-Except-Finally block) <a id=\"Section1\"></a>"
   ]
  },
  {
   "cell_type": "markdown",
   "id": "61c03767",
   "metadata": {},
   "source": [
    "**CREATE a table called 'employee'**"
   ]
  },
  {
   "cell_type": "markdown",
   "id": "d1702e58",
   "metadata": {},
   "source": [
    "- NOTE: Syntax and the code is exactly same as SQL**"
   ]
  },
  {
   "cell_type": "markdown",
   "id": "535c49a2",
   "metadata": {},
   "source": [
    "- Place your CREATE code in TRY Block and store in a variable and at the end use cur.execute(var_name) method and pass the variable inside ()\n",
    "\n",
    "- We need to compulsorily use: conn.commit() method: as it will SAVE whatever transactions we have done into the database"
   ]
  },
  {
   "cell_type": "code",
   "execution_count": 18,
   "id": "07121fde",
   "metadata": {},
   "outputs": [],
   "source": [
    "try:\n",
    "    conn = psycopg2.connect(\n",
    "                host = hostname,\n",
    "                dbname = database,\n",
    "                user = username,\n",
    "                password = pwd,\n",
    "                port = port_id)\n",
    "\n",
    "    cur = conn.cursor()\n",
    "    \n",
    "    create_script =  '''\n",
    "                        CREATE TABLE IF NOT EXISTS employee (\n",
    "                            id INT PRIMARY KEY,\n",
    "                            name VARCHAR(40) NOT NULL,\n",
    "                            salary INT,\n",
    "                            dept_id VARCHAR(30))\n",
    "                      '''\n",
    "    cur.execute(create_script)\n",
    "    \n",
    "    conn.commit()\n",
    "    \n",
    "    \n",
    "except Exception as error:\n",
    "    print(error)\n",
    "    \n",
    "finally:\n",
    "    if cur is not None:   #means if the cursor is open only when i want to close!\n",
    "        cur.close()\n",
    "    \n",
    "    if conn is not None:\n",
    "        conn.close()"
   ]
  },
  {
   "cell_type": "markdown",
   "id": "4886953e",
   "metadata": {},
   "source": [
    "**The employee table has been created successfully with 4 columns, Verified in pgAdmin4**"
   ]
  },
  {
   "cell_type": "code",
   "execution_count": null,
   "id": "42e0c6aa",
   "metadata": {},
   "outputs": [],
   "source": []
  },
  {
   "cell_type": "markdown",
   "id": "c3a24c04",
   "metadata": {},
   "source": [
    "## 2.1 INSERT Data into the above Table created [DML] <a id=\"Section2\"></a>"
   ]
  },
  {
   "cell_type": "markdown",
   "id": "f47b4bdf",
   "metadata": {},
   "source": [
    "- Create a variable and store the INSERT command in it\n",
    "\n",
    "- Avoid SQL Injection (by not placing all the VALUES, instead just use PLACEHOLDERS like %s for each Values)\n",
    "\n",
    "- create another variable for passing the values in TUPLE () type, you can add a LIST [(),(),..] to pass multiple values"
   ]
  },
  {
   "cell_type": "code",
   "execution_count": 22,
   "id": "a94c2e6f",
   "metadata": {},
   "outputs": [],
   "source": [
    "conn = psycopg2.connect(\n",
    "                host = hostname,\n",
    "                dbname = database,\n",
    "                user = username,\n",
    "                password = pwd,\n",
    "                port = port_id)\n",
    "\n",
    "cur = conn.cursor()\n",
    "\n",
    "insert_script = '''\n",
    "                    INSERT INTO employee (id, name, salary, dept_id) \n",
    "                    VALUES (%s, %s, %s, %s)\n",
    "                '''\n",
    "insert_value = (1, 'Sid', '100000', 'S1')\n",
    "cur.execute(insert_script, insert_value)\n",
    "\n",
    "conn.commit()"
   ]
  },
  {
   "cell_type": "markdown",
   "id": "10e7c016",
   "metadata": {},
   "source": [
    "![1RetrievingInsertedData](1RetrievingInsertedData.png)"
   ]
  },
  {
   "cell_type": "code",
   "execution_count": null,
   "id": "9d90e0fe",
   "metadata": {},
   "outputs": [],
   "source": []
  },
  {
   "cell_type": "markdown",
   "id": "c5c3db2e",
   "metadata": {},
   "source": [
    "## 2.2 INSERT multiple Values now! <a id=\"section2.2\"></a>"
   ]
  },
  {
   "cell_type": "markdown",
   "id": "07136807",
   "metadata": {},
   "source": [
    "- You can Use DROP Table command, so every time you insert data into the table, It will create a New table everytime to avoid any \"UniqueViolation: duplicate key value violates unique constraint \"employee_pkey\"\n",
    "DETAIL:  Key (id)=(1) already exists.\" OR 'IndexError: list index out of range' errors!\n",
    "\n",
    "- use insert with TUPLES it around 200 time faster than executemany in psycopg2"
   ]
  },
  {
   "cell_type": "code",
   "execution_count": 41,
   "id": "1775e462",
   "metadata": {},
   "outputs": [],
   "source": [
    "try:\n",
    "    conn = psycopg2.connect(\n",
    "                host = hostname,\n",
    "                dbname = database,\n",
    "                user = username,\n",
    "                password = pwd,\n",
    "                port = port_id)\n",
    "\n",
    "    cur = conn.cursor()\n",
    "    \n",
    "    \n",
    "    # DROP Table is exists:\n",
    "    cur.execute('DROP TABLE IF EXISTS employee') # This will makesure that everytime i execute the cmds, It will DROP\n",
    "    \n",
    "    \n",
    "    # CREATE Table:\n",
    "    create_script =  '''\n",
    "                        CREATE TABLE IF NOT EXISTS employee (\n",
    "                            id INT PRIMARY KEY,\n",
    "                            name VARCHAR(40) NOT NULL,\n",
    "                            salary INT,\n",
    "                            dept_id VARCHAR(30))\n",
    "                      '''\n",
    "    cur.execute(create_script)\n",
    "    \n",
    "\n",
    "    # INSERT Columns\n",
    "    insert_script = '''\n",
    "                        INSERT INTO employee (id, name, salary, dept_id) \n",
    "                        VALUES (%s, %s, %s, %s)\n",
    "                    '''\n",
    "\n",
    "    \n",
    "    # INSERT multiple records\n",
    "    insert_values = [(1, 'Sid', '100000', 'S1'), \n",
    "                     (2, 'Nani', '200000', 'S2'), \n",
    "                     (3, 'Xavier', '60000', 'S3') ]\n",
    "\n",
    "\n",
    "    # Using for loop to insert multiple record one at a time\n",
    "    for record in insert_values:\n",
    "        cur.execute(insert_script, record)\n",
    "    \n",
    "    \n",
    "    conn.commit()\n",
    "    \n",
    "    \n",
    "except Exception as error:\n",
    "    print(error)\n",
    "    \n",
    "finally:\n",
    "    if cur is not None:   #means if the cursor is open only when i want to close!\n",
    "        cur.close()\n",
    "    \n",
    "    if conn is not None:\n",
    "        conn.close()"
   ]
  },
  {
   "cell_type": "markdown",
   "id": "936a9c91",
   "metadata": {},
   "source": [
    "![2RetrievingInsertedData](2RetrievingInsertedData.png)"
   ]
  },
  {
   "cell_type": "code",
   "execution_count": null,
   "id": "c84e8ff7",
   "metadata": {},
   "outputs": [],
   "source": []
  },
  {
   "cell_type": "markdown",
   "id": "eefb71f2",
   "metadata": {},
   "source": [
    "## 3. Program without Using TRY - EXCEPT - FINALLY  blocks <a id=\"TryExceptFinally\"></a>"
   ]
  },
  {
   "cell_type": "code",
   "execution_count": 126,
   "id": "8fece5af",
   "metadata": {},
   "outputs": [],
   "source": [
    "conn = psycopg2.connect(\n",
    "                host = hostname,\n",
    "                dbname = database,\n",
    "                user = username,\n",
    "                password = pwd,\n",
    "                port = port_id)\n",
    "\n",
    "# Error: InFailedSqlTransaction: current transaction is aborted, commands ignored until end of transaction block\n",
    "# If don't want to have to commit each entry to the database, you can add the following line:\n",
    "conn.autocommit = True  # How to set auto commit in psycopg2 ?  https://stackoverflow.com/questions/18068901/python-psycopg2-not-inserting-into-postgresql-table\n",
    "\n",
    "cur = conn.cursor()\n",
    "\n",
    "# DROP Table is exists:\n",
    "cur.execute('DROP TABLE IF EXISTS employee') # This will makesure that everytime i execute the cmds, It will DROP the table 1st & it will insert all the data!\n",
    "\n",
    "# CREATE Table:\n",
    "create_script =  '''\n",
    "                        CREATE TABLE IF NOT EXISTS employee (\n",
    "                            id INT PRIMARY KEY,\n",
    "                            name VARCHAR(40) NOT NULL,\n",
    "                            salary INT,\n",
    "                            dept_id VARCHAR(30))\n",
    "                      '''\n",
    "cur.execute(create_script)\n",
    "\n",
    "\n",
    "# INSERT Columns\n",
    "insert_script = '''\n",
    "                    INSERT INTO employee (id, name, salary, dept_id) \n",
    "                    VALUES (%s, %s, %s, %s)\n",
    "                '''\n",
    "\n",
    "# INSERT multiple records\n",
    "insert_values = [(1, 'Sid', '100000', 'S1'), \n",
    "                 (2, 'Nani', '200000', 'S2'), \n",
    "                 (3, 'Xavier', '60000', 'S3') ]\n",
    "\n",
    "\n",
    "# Using for loop to insert multiple record one at a time\n",
    "for record in insert_values:\n",
    "    cur.execute(insert_script, record)\n",
    "\n",
    "conn.commit()"
   ]
  },
  {
   "cell_type": "code",
   "execution_count": null,
   "id": "99deba34",
   "metadata": {},
   "outputs": [],
   "source": []
  },
  {
   "cell_type": "code",
   "execution_count": null,
   "id": "c5146106",
   "metadata": {},
   "outputs": [],
   "source": []
  },
  {
   "cell_type": "markdown",
   "id": "d716265b",
   "metadata": {},
   "source": [
    "## 4. Performing DDL Operations Seperately: <a id = \"DDL\"></a>"
   ]
  },
  {
   "cell_type": "markdown",
   "id": "aa238013",
   "metadata": {},
   "source": [
    "List of DDL commands: \n",
    "\n",
    "1. CREATE: This command is used to create the database or its objects (like table, index, function, views, store procedure, and triggers).\n",
    "2. DROP: This command is used to delete objects from the database.\n",
    "3. ALTER: This is used to alter the structure of the database.\n",
    "4. TRUNCATE: This is used to remove all records from a table, including all spaces allocated for the records are removed.\n",
    "5. RENAME: This is used to rename an object existing in the database."
   ]
  },
  {
   "cell_type": "markdown",
   "id": "f62230e2",
   "metadata": {},
   "source": [
    "### DROP the employee Table [DDL]"
   ]
  },
  {
   "cell_type": "markdown",
   "id": "648bed8e",
   "metadata": {},
   "source": [
    "- After running the above query whole database will be deleted."
   ]
  },
  {
   "cell_type": "markdown",
   "id": "2c6fcd49",
   "metadata": {},
   "source": [
    "### CREATE  Table <a id = \"create\"></a>"
   ]
  },
  {
   "cell_type": "code",
   "execution_count": 107,
   "id": "4e4a1973",
   "metadata": {},
   "outputs": [],
   "source": [
    "conn_saved\n",
    "conn.autocommit = True  \n",
    "cur = conn.cursor()\n",
    "\n",
    "cur.execute('DROP TABLE IF EXISTS employee') \n",
    "\n",
    "# CREATE Table:\n",
    "create_script =  '''\n",
    "                        CREATE TABLE IF NOT EXISTS employee (\n",
    "                            id INT PRIMARY KEY,\n",
    "                            name VARCHAR(40) NOT NULL,\n",
    "                            salary INT,\n",
    "                            dept_id VARCHAR(30))\n",
    "                      '''\n",
    "cur.execute(create_script)\n",
    "conn.commit()"
   ]
  },
  {
   "attachments": {
    "image.png": {
     "image/png": "[encoded data removed]"
    }
   },
   "cell_type": "markdown",
   "id": "8de099e1",
   "metadata": {},
   "source": [
    "![image.png](attachment:image.png)"
   ]
  },
  {
   "cell_type": "markdown",
   "id": "6a2e0434",
   "metadata": {},
   "source": [
    "### DROP table <a id = \"drop\"></a>"
   ]
  },
  {
   "cell_type": "code",
   "execution_count": 106,
   "id": "4f81bce6",
   "metadata": {},
   "outputs": [],
   "source": [
    "conn_saved\n",
    "\n",
    "conn.autocommit = True  # How to set auto commit in psycopg2 ?  https://stackoverflow.com/questions/18068901/python-psycopg2-not-inserting-into-postgresql-table\n",
    "\n",
    "cur = conn.cursor()\n",
    "\n",
    "# DROP Table is exists:\n",
    "cur.execute('DROP TABLE IF EXISTS employee') # This will makesure that everytime i execute the cmds, It will DROP the table 1st & it will insert all the data!"
   ]
  },
  {
   "cell_type": "code",
   "execution_count": null,
   "id": "a5386146",
   "metadata": {},
   "outputs": [],
   "source": []
  },
  {
   "cell_type": "markdown",
   "id": "87c18857",
   "metadata": {},
   "source": [
    "### RENAME table name   <a id = \"rename\"></a>\n",
    "- We need to Use ALTER, TASK: rename employee to employee1\n",
    "-- This is used to rename an object existing in the database."
   ]
  },
  {
   "cell_type": "code",
   "execution_count": 108,
   "id": "c7d8aebd",
   "metadata": {},
   "outputs": [],
   "source": [
    "conn_saved\n",
    "# conn.autocommit = True  \n",
    "cur = conn.cursor()\n",
    "\n",
    "# Rename Script\n",
    "rename_script = '''ALTER TABLE employee\n",
    "                 RENAME TO employee1;'''\n",
    "\n",
    "cur.execute(rename_script)\n",
    "conn.commit()"
   ]
  },
  {
   "cell_type": "markdown",
   "id": "cb4afaa2",
   "metadata": {},
   "source": [
    "![3RenameTable](3RenameTable.png)"
   ]
  },
  {
   "cell_type": "markdown",
   "id": "29822e79",
   "metadata": {},
   "source": [
    "\n",
    "## WITH Clause"
   ]
  },
  {
   "cell_type": "markdown",
   "id": "9e4744df",
   "metadata": {},
   "source": [
    "### INSERT Columns with Values [DML] to perform TRUNCATE operation\n",
    "\n",
    "**Here, we can bypass the above 3 variable by using them in WITH statement**"
   ]
  },
  {
   "cell_type": "code",
   "execution_count": 124,
   "id": "5019a79d",
   "metadata": {},
   "outputs": [],
   "source": [
    "# As connections (and cursors) are context managers, you can simply use the with statement to automatically commit/rollback a transaction on leaving the context:(https://stackoverflow.com/questions/18068901/python-psycopg2-not-inserting-into-postgresql-table)\n",
    "with conn, conn.cursor() as cur:  # start a transaction and create a cursor\n",
    "    # INSERT Columns\n",
    "    insert_script = '''\n",
    "                        INSERT INTO employee1 (id, name, salary, dept_id) \n",
    "                        VALUES (%s, %s, %s, %s)\n",
    "                    '''\n",
    "\n",
    "    # INSERT multiple records\n",
    "    insert_values = [(1, 'Sid', '100000', 'S1'), \n",
    "                     (2, 'Nani', '200000', 'S2'), \n",
    "                     (3, 'Xavier', '60000', 'S3') ]\n",
    "\n",
    "\n",
    "    # Using for loop to insert multiple record one at a time\n",
    "    for record in insert_values:\n",
    "        cur.execute(insert_script, record)\n"
   ]
  },
  {
   "cell_type": "markdown",
   "id": "7c49c7d0",
   "metadata": {},
   "source": [
    "![4RetrieveInsertedMultipleValues](4RetrieveInsertedMultipleValues.png)"
   ]
  },
  {
   "cell_type": "code",
   "execution_count": null,
   "id": "acc5eb0d",
   "metadata": {},
   "outputs": [],
   "source": []
  },
  {
   "cell_type": "markdown",
   "id": "657ad728",
   "metadata": {},
   "source": [
    "### TRUNCATE the employee1 table [DDL]  <a id = \"truncate\"></a>\n",
    "-  After running the above query  the data will be deleted but the structure will remain in the memory for further operations."
   ]
  },
  {
   "cell_type": "code",
   "execution_count": 127,
   "id": "472b3f4f",
   "metadata": {},
   "outputs": [],
   "source": [
    "with conn, conn.cursor() as cur:\n",
    "    # Rename Script\n",
    "    truncate_script = '''TRUNCATE TABLE employee;'''\n",
    "\n",
    "    cur.execute(truncate_script)"
   ]
  },
  {
   "cell_type": "markdown",
   "id": "c2e1bded",
   "metadata": {},
   "source": [
    "![5TruncatedTable](5TruncatedTable.png)"
   ]
  },
  {
   "cell_type": "code",
   "execution_count": null,
   "id": "798672b6",
   "metadata": {},
   "outputs": [],
   "source": []
  },
  {
   "cell_type": "markdown",
   "id": "b6bfe1f9",
   "metadata": {},
   "source": [
    "# 5. DQL (Data Query Language) <a id = \"dql\"></a>"
   ]
  },
  {
   "cell_type": "markdown",
   "id": "b4328da6",
   "metadata": {},
   "source": [
    "## 5.1 Retrieve the Records [DQL]"
   ]
  },
  {
   "cell_type": "code",
   "execution_count": 128,
   "id": "dbfb033b",
   "metadata": {
    "scrolled": true
   },
   "outputs": [
    {
     "name": "stdout",
     "output_type": "stream",
     "text": [
      "[(1, 'Sid', 100000, 'S1'), (2, 'Nani', 200000, 'S2'), (3, 'Xavier', 60000, 'S3')]\n"
     ]
    }
   ],
   "source": [
    "with conn, conn.cursor() as cur:\n",
    "    cur.execute('SELECT * FROM employee1')\n",
    "    print(cur.fetchall())"
   ]
  },
  {
   "cell_type": "markdown",
   "id": "8ca8d000",
   "metadata": {},
   "source": [
    "- here each TUPLE holds one record"
   ]
  },
  {
   "cell_type": "markdown",
   "id": "4215dc09",
   "metadata": {},
   "source": [
    "**To iterate each Tuple record using FOR loop**"
   ]
  },
  {
   "cell_type": "code",
   "execution_count": 131,
   "id": "63dee946",
   "metadata": {},
   "outputs": [
    {
     "name": "stdout",
     "output_type": "stream",
     "text": [
      "(1, 'Sid', 100000, 'S1')\n",
      "(2, 'Nani', 200000, 'S2')\n",
      "(3, 'Xavier', 60000, 'S3')\n"
     ]
    }
   ],
   "source": [
    "with conn, conn.cursor() as cur:\n",
    "    cur.execute('SELECT * FROM employee1')\n",
    "    for record in cur.fetchall():\n",
    "        print(record)"
   ]
  },
  {
   "cell_type": "markdown",
   "id": "fe075bc6",
   "metadata": {},
   "source": [
    "**To Access only specific columns from table using INDEX**"
   ]
  },
  {
   "cell_type": "code",
   "execution_count": 132,
   "id": "808d8f61",
   "metadata": {},
   "outputs": [
    {
     "name": "stdout",
     "output_type": "stream",
     "text": [
      "Sid 100000\n",
      "Nani 200000\n",
      "Xavier 60000\n"
     ]
    }
   ],
   "source": [
    "with conn, conn.cursor() as cur:\n",
    "    cur.execute('SELECT * FROM employee1')\n",
    "    for record in cur.fetchall():\n",
    "        print(record[1], record[2])"
   ]
  },
  {
   "cell_type": "code",
   "execution_count": null,
   "id": "275b1cb9",
   "metadata": {},
   "outputs": [],
   "source": []
  },
  {
   "cell_type": "markdown",
   "id": "d9e10834",
   "metadata": {},
   "source": [
    "- What if the database to too large, in that case we will be unable to Trace specific INDEX and Retrive records based on the index, For that problem, we will be retrieving the data using COMLUM names instead of Index, so, we will be using extras module to return the Fetch data in dictionary format"
   ]
  },
  {
   "cell_type": "markdown",
   "id": "c59c8fd5",
   "metadata": {},
   "source": [
    "## 5.2 To Fetch the data, by simply using Column names"
   ]
  },
  {
   "cell_type": "markdown",
   "id": "490e4911",
   "metadata": {},
   "source": [
    "**We need to Import a module which is inside the psycopg2 called as .extras**"
   ]
  },
  {
   "cell_type": "markdown",
   "id": "d2b752a2",
   "metadata": {},
   "source": [
    "**With this we can simply Call Column Names and Retrieve the Records**"
   ]
  },
  {
   "cell_type": "code",
   "execution_count": 133,
   "id": "98a10ebc",
   "metadata": {},
   "outputs": [
    {
     "name": "stdout",
     "output_type": "stream",
     "text": [
      "Sid 100000\n",
      "Nani 200000\n",
      "Xavier 60000\n"
     ]
    }
   ],
   "source": [
    "import psycopg2.extras\n",
    "\n",
    "with conn, conn.cursor(cursor_factory = psycopg2.extras.DictCursor) as cur:\n",
    "    cur.execute('SELECT * FROM employee1')\n",
    "    for record in cur.fetchall():\n",
    "        print(record['name'], record['salary'])  # Simply Use Column Names!\n",
    "        "
   ]
  },
  {
   "cell_type": "code",
   "execution_count": null,
   "id": "7e4eab98",
   "metadata": {},
   "outputs": [],
   "source": []
  },
  {
   "cell_type": "code",
   "execution_count": null,
   "id": "5ded7805",
   "metadata": {},
   "outputs": [],
   "source": []
  },
  {
   "cell_type": "markdown",
   "id": "c604359f",
   "metadata": {},
   "source": [
    "## Entire CODE program:"
   ]
  },
  {
   "cell_type": "markdown",
   "id": "4f6e80ab",
   "metadata": {},
   "source": [
    "# 6. DML (Data Manipulation Commands) <a id = \"dml\"></a>"
   ]
  },
  {
   "cell_type": "markdown",
   "id": "bd1ea576",
   "metadata": {},
   "source": [
    "**List of DML commands:**\n",
    "\n",
    "**INSERT : It is used to insert data into a table.** <a id = \"insert\"></a>\n",
    "    \n",
    "**UPDATE: It is used to update existing data within a table.**\n",
    "    \n",
    "**DELETE : It is used to delete records from a database table.**"
   ]
  },
  {
   "cell_type": "markdown",
   "id": "ec683f2f",
   "metadata": {},
   "source": [
    "## 6.1 INSERT records inside table: <a id = \"insert\"></a>"
   ]
  },
  {
   "cell_type": "markdown",
   "id": "2f2d607b",
   "metadata": {},
   "source": [
    "- It is used to insert data into a table."
   ]
  },
  {
   "cell_type": "code",
   "execution_count": 134,
   "id": "c175bd7e",
   "metadata": {},
   "outputs": [
    {
     "name": "stdout",
     "output_type": "stream",
     "text": [
      "Sid 100000\n",
      "Nani 200000\n",
      "Xavier 60000\n"
     ]
    }
   ],
   "source": [
    "import psycopg2.extras\n",
    "\n",
    "try:\n",
    "    conn = psycopg2.connect(\n",
    "                host = hostname,\n",
    "                dbname = database,\n",
    "                user = username,\n",
    "                password = pwd,\n",
    "                port = port_id)\n",
    "    \n",
    "    # Made changes here!\n",
    "    cur = conn.cursor(cursor_factory = psycopg2.extras.DictCursor)\n",
    "    \n",
    "    \n",
    "    # DROP Table is exists:\n",
    "    cur.execute('DROP TABLE IF EXISTS employee') # It will DROP if exists any!?\n",
    "    \n",
    "    \n",
    "    # CREATE Table:\n",
    "    create_script =  '''\n",
    "                        CREATE TABLE IF NOT EXISTS employee (\n",
    "                            id INT PRIMARY KEY,\n",
    "                            name VARCHAR(40) NOT NULL,\n",
    "                            salary INT,\n",
    "                            dept_id VARCHAR(30))\n",
    "                      '''\n",
    "    cur.execute(create_script)\n",
    "    \n",
    "\n",
    "    # INSERT Columns\n",
    "    insert_script = '''\n",
    "                        INSERT INTO employee (id, name, salary, dept_id) \n",
    "                        VALUES (%s, %s, %s, %s)\n",
    "                    '''\n",
    "\n",
    "    \n",
    "    # INSERT multiple records\n",
    "    insert_values = [(1, 'Sid', '100000', 'S1'), \n",
    "                     (2, 'Nani', '200000', 'S2'), \n",
    "                     (3, 'Xavier', '60000', 'S3') ]\n",
    "\n",
    "\n",
    "    # Using for loop to insert multiple record one at a time\n",
    "    for record in insert_values:\n",
    "        cur.execute(insert_script, record)\n",
    "        \n",
    "        \n",
    "    cur.execute('SELECT * FROM employee')\n",
    "    for record in cur.fetchall():\n",
    "        print(record['name'], record['salary'])  # Simply Use Column Names!\n",
    "    \n",
    "    \n",
    "    conn.commit()\n",
    "    \n",
    "    \n",
    "except Exception as error:\n",
    "    print(error)\n",
    "    \n",
    "finally:\n",
    "    if cur is not None:   #means if the cursor is open only when i want to close!\n",
    "        cur.close()\n",
    "    \n",
    "    if conn is not None:\n",
    "        conn.close()"
   ]
  },
  {
   "cell_type": "code",
   "execution_count": null,
   "id": "c9185d1d",
   "metadata": {},
   "outputs": [],
   "source": []
  },
  {
   "cell_type": "markdown",
   "id": "15b1b101",
   "metadata": {},
   "source": [
    "## 6.2 UPDATE the Records <a id = \"update\"></a>"
   ]
  },
  {
   "cell_type": "markdown",
   "id": "7db39051",
   "metadata": {},
   "source": [
    "- Create a variable and store the UPDATE cmd"
   ]
  },
  {
   "cell_type": "markdown",
   "id": "78558e76",
   "metadata": {},
   "source": [
    "**Task:  INCREASE the Salary by 50%**"
   ]
  },
  {
   "cell_type": "code",
   "execution_count": 135,
   "id": "42ca93b8",
   "metadata": {},
   "outputs": [],
   "source": [
    "# As, in above, we have CLOSED the connection, we need to connect again!\n",
    "conn = psycopg2.connect(\n",
    "            host = hostname,\n",
    "            dbname = database,\n",
    "            user = username,\n",
    "            password = pwd,\n",
    "            port = port_id)"
   ]
  },
  {
   "cell_type": "code",
   "execution_count": 136,
   "id": "47184e08",
   "metadata": {},
   "outputs": [
    {
     "name": "stdout",
     "output_type": "stream",
     "text": [
      "Sid 150000\n",
      "Nani 300000\n",
      "Xavier 90000\n"
     ]
    }
   ],
   "source": [
    "with conn, conn.cursor(cursor_factory = psycopg2.extras.DictCursor) as cur:\n",
    "        update_script = '''\n",
    "                            UPDATE employee\n",
    "                            SET salary = salary + (salary * 0.5)\n",
    "                        '''\n",
    "        cur.execute(update_script)\n",
    "        \n",
    "        \n",
    "        cur.execute('SELECT * FROM employee')\n",
    "        for record in cur.fetchall():\n",
    "            print(record['name'], record['salary'])"
   ]
  },
  {
   "cell_type": "markdown",
   "id": "eb43307e",
   "metadata": {},
   "source": [
    "![6UpdatedRecord](6UpdatedRecord.png)"
   ]
  },
  {
   "cell_type": "code",
   "execution_count": null,
   "id": "295c168c",
   "metadata": {},
   "outputs": [],
   "source": []
  },
  {
   "cell_type": "markdown",
   "id": "25b7bb3a",
   "metadata": {},
   "source": [
    "## 6.3 DELETE Records from Table <a id = \"delete\"></a>"
   ]
  },
  {
   "cell_type": "markdown",
   "id": "9045e1f8",
   "metadata": {},
   "source": [
    "**Task: Delete Nani from the employee**"
   ]
  },
  {
   "cell_type": "markdown",
   "id": "cfd2d194",
   "metadata": {},
   "source": [
    "- Create a variable and store the DELETE cmd "
   ]
  },
  {
   "cell_type": "code",
   "execution_count": 137,
   "id": "eba0a81e",
   "metadata": {},
   "outputs": [
    {
     "name": "stdout",
     "output_type": "stream",
     "text": [
      "[1, 'Sid', 150000, 'S1']\n",
      "[3, 'Xavier', 90000, 'S3']\n"
     ]
    }
   ],
   "source": [
    "with conn, conn.cursor(cursor_factory = psycopg2.extras.DictCursor) as cur:\n",
    "    delete_script = ' DELETE FROM employee WHERE name = %s '\n",
    "    delete_record = ('Nani', )\n",
    "    cur.execute(delete_script, delete_record)\n",
    "    \n",
    "    cur.execute('SELECT * FROM employee')\n",
    "    for record in cur.fetchall():\n",
    "        print(record)\n"
   ]
  },
  {
   "cell_type": "code",
   "execution_count": null,
   "id": "26c360db",
   "metadata": {},
   "outputs": [],
   "source": []
  },
  {
   "cell_type": "code",
   "execution_count": null,
   "id": "d1900092",
   "metadata": {},
   "outputs": [],
   "source": []
  },
  {
   "cell_type": "markdown",
   "id": "3da94d50",
   "metadata": {},
   "source": [
    "## Conclusion: What have we learnt ?"
   ]
  },
  {
   "cell_type": "markdown",
   "id": "7f7a27a9",
   "metadata": {},
   "source": [
    "**We have Created a Setup to Connect to postgreSQL using psycopg2 library**"
   ]
  },
  {
   "cell_type": "markdown",
   "id": "455b3e0f",
   "metadata": {},
   "source": [
    "**We have saw how to use a Proper/Best practice Code for postgreSQL commands**\n",
    "\n",
    "**We have saw Program Code with and without TRY-EXCEPT-FINALLY Block**"
   ]
  },
  {
   "cell_type": "markdown",
   "id": "fd75f3c5",
   "metadata": {},
   "source": [
    "**We have Performend various DDL,DQL,and DML operations**"
   ]
  },
  {
   "cell_type": "code",
   "execution_count": null,
   "id": "3600fb11",
   "metadata": {},
   "outputs": [],
   "source": []
  },
  {
   "cell_type": "markdown",
   "id": "4d5c1b17",
   "metadata": {},
   "source": [
    "**Finally, we will see**\n",
    "\n",
    "# 7. \"Context Manager\" <a id = \"contextManager\"></a>"
   ]
  },
  {
   "cell_type": "markdown",
   "id": "72ad0005",
   "metadata": {},
   "source": [
    "### Inorder to use Context manager we need to use WITH Clause for Connection and Cursor for entire SQL operations"
   ]
  },
  {
   "cell_type": "markdown",
   "id": "0f231eaf",
   "metadata": {},
   "source": [
    "### Advantages of with Clause:\n",
    "\n",
    "**WITH clause will take care of closing the CURSOR for us! i.e no need to use \"cur.execute()\"\" command**\n",
    "\n",
    "**WITH clause will take care of commiting the database transaction, i.e no need to use \"conn.commit()\"**\n",
    "- If there are no exceptions all the transactions will be commited & if there are exceptions all the Transactions wi;; be Rollback\n",
    "\n",
    "- WITH clause will not take care of closing the database connection!"
   ]
  },
  {
   "cell_type": "code",
   "execution_count": 140,
   "id": "56b30270",
   "metadata": {
    "scrolled": true
   },
   "outputs": [
    {
     "name": "stdout",
     "output_type": "stream",
     "text": [
      "Robin 22500\n",
      "Xavier 30000\n"
     ]
    }
   ],
   "source": [
    "import psycopg2\n",
    "import psycopg2.extras\n",
    "\n",
    "hostname = 'localhost'\n",
    "database = 'demo'\n",
    "username = 'postgres'\n",
    "pwd = 'Your_Pwd'\n",
    "port_id = 5432\n",
    "conn = None\n",
    "\n",
    "try:\n",
    "    with psycopg2.connect(\n",
    "                host = hostname,\n",
    "                dbname = database,\n",
    "                user = username,\n",
    "                password = pwd,\n",
    "                port = port_id) as conn:\n",
    "\n",
    "        with conn.cursor(cursor_factory=psycopg2.extras.DictCursor) as cur:\n",
    "\n",
    "            cur.execute('DROP TABLE IF EXISTS employee2')\n",
    "\n",
    "            create_script = ''' CREATE TABLE IF NOT EXISTS employee2 (\n",
    "                                    id      int PRIMARY KEY,\n",
    "                                    name    varchar(40) NOT NULL,\n",
    "                                    salary  int,\n",
    "                                    dept_id varchar(30)) '''\n",
    "            cur.execute(create_script)\n",
    "\n",
    "            insert_script  = 'INSERT INTO employee2 (id, name, salary, dept_id) VALUES (%s, %s, %s, %s)'\n",
    "            insert_values = [(1, 'James', 12000, 'D1'), (2, 'Robin', 15000, 'D1'), (3, 'Xavier', 20000, 'D2')]\n",
    "            for record in insert_values:\n",
    "                cur.execute(insert_script, record)\n",
    "\n",
    "            update_script = 'UPDATE employee2 SET salary = salary + (salary * 0.5)'\n",
    "            cur.execute(update_script)\n",
    "\n",
    "            delete_script = 'DELETE FROM employee2 WHERE name = %s'\n",
    "            delete_record = ('James',)\n",
    "            cur.execute(delete_script, delete_record)\n",
    "\n",
    "            cur.execute('SELECT * FROM employee2')\n",
    "            for record in cur.fetchall():\n",
    "                print(record['name'], record['salary'])\n",
    "except Exception as error:\n",
    "    print(error)\n",
    "finally:\n",
    "    if conn is not None:\n",
    "        conn.close()"
   ]
  },
  {
   "cell_type": "markdown",
   "id": "3dc0faa9",
   "metadata": {},
   "source": [
    "![7ContextManagerWithClauseOP](7ContextManagerWithClauseOP.png)"
   ]
  },
  {
   "cell_type": "markdown",
   "id": "572d27ad",
   "metadata": {},
   "source": [
    " [Click here to redirect to the table of Contents at TOP](#toc)"
   ]
  },
  {
   "cell_type": "code",
   "execution_count": null,
   "id": "4e14bf6b",
   "metadata": {},
   "outputs": [],
   "source": []
  }
 ],
 "metadata": {
  "kernelspec": {
   "display_name": "Python 3 (ipykernel)",
   "language": "python",
   "name": "python3"
  },
  "language_info": {
   "codemirror_mode": {
    "name": "ipython",
    "version": 3
   },
   "file_extension": ".py",
   "mimetype": "text/x-python",
   "name": "python",
   "nbconvert_exporter": "python",
   "pygments_lexer": "ipython3",
   "version": "3.9.15"
  }
 },
 "nbformat": 4,
 "nbformat_minor": 5
}
